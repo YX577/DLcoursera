{
  "nbformat": 4,
  "nbformat_minor": 0,
  "metadata": {
    "colab": {
      "name": "Dinosaurus+Island+--+Character+level+language+model+final+-+v3.ipynb",
      "version": "0.3.2",
      "provenance": [],
      "include_colab_link": true
    },
    "language_info": {
      "codemirror_mode": {
        "name": "ipython",
        "version": 3
      },
      "file_extension": ".py",
      "mimetype": "text/x-python",
      "name": "python",
      "nbconvert_exporter": "python",
      "pygments_lexer": "ipython3",
      "version": "3.6.0"
    },
    "kernelspec": {
      "display_name": "Python 3",
      "language": "python",
      "name": "python3"
    }
  },
  "cells": [
    {
      "cell_type": "markdown",
      "metadata": {
        "id": "view-in-github",
        "colab_type": "text"
      },
      "source": [
        "<a href=\"https://colab.research.google.com/github/csaybar/DLcoursera/blob/master/Sequence%20Models/week01/Dinosaur%20Island%20--%20Character-level%20language%20model/Dinosaurus%2BIsland%2B--%2BCharacter%2Blevel%2Blanguage%2Bmodel%2Bfinal%2B-%2Bv3.ipynb\" target=\"_parent\"><img src=\"https://colab.research.google.com/assets/colab-badge.svg\" alt=\"Open In Colab\"/></a>"
      ]
    },
    {
      "cell_type": "markdown",
      "metadata": {
        "id": "7s5zPUrPJL7l",
        "colab_type": "text"
      },
      "source": [
        "# Character level language model - Dinosaurus land\n",
        "\n",
        "Welcome to Dinosaurus Island! 65 million years ago, dinosaurs existed, and in this assignment they are back. You are in charge of a special task. Leading biology researchers are creating new breeds of dinosaurs and bringing them to life on earth, and your job is to give names to these dinosaurs. If a dinosaur does not like its name, it might go beserk, so choose wisely! \n",
        "\n",
        "<table>\n",
        "<td>\n",
        "<img src=\"https://github.com/csaybar/DLcoursera/blob/master/Sequence%20Models/week01/Dinosaur%20Island%20--%20Character-level%20language%20model/images/dino.jpg?raw=1\" style=\"width:250;height:300px;\">\n",
        "\n",
        "</td>\n",
        "\n",
        "</table>\n",
        "\n",
        "Luckily you have learned some deep learning and you will use it to save the day. Your assistant has collected a list of all the dinosaur names they could find, and compiled them into this [dataset](dinos.txt). (Feel free to take a look by clicking the previous link.) To create new dinosaur names, you will build a character level language model to generate new names. Your algorithm will learn the different name patterns, and randomly generate new names. Hopefully this algorithm will keep you and your team safe from the dinosaurs' wrath! \n",
        "\n",
        "By completing this assignment you will learn:\n",
        "\n",
        "- How to store text data for processing using an RNN \n",
        "- How to synthesize data, by sampling predictions at each time step and passing it to the next RNN-cell unit\n",
        "- How to build a character-level text generation recurrent neural network\n",
        "- Why clipping the gradients is important\n",
        "\n",
        "We will begin by loading in some functions that we have provided for you in `rnn_utils`. Specifically, you have access to functions such as `rnn_forward` and `rnn_backward` which are equivalent to those you've implemented in the previous assignment. "
      ]
    },
    {
      "cell_type": "code",
      "metadata": {
        "id": "Pdzo7XSYJL7q",
        "colab_type": "code",
        "colab": {}
      },
      "source": [
        "import numpy as np\n",
        "import random"
      ],
      "execution_count": 0,
      "outputs": []
    },
    {
      "cell_type": "code",
      "metadata": {
        "id": "z8g9dwxSJ8PE",
        "colab_type": "code",
        "colab": {},
        "cellView": "form"
      },
      "source": [
        "#@title utils\n",
        "\n",
        "import numpy as np\n",
        "\n",
        "def softmax(x):\n",
        "    e_x = np.exp(x - np.max(x))\n",
        "    return e_x / e_x.sum(axis=0)\n",
        "\n",
        "def smooth(loss, cur_loss):\n",
        "    return loss * 0.999 + cur_loss * 0.001\n",
        "\n",
        "def print_sample(sample_ix, ix_to_char):\n",
        "    txt = ''.join(ix_to_char[ix] for ix in sample_ix)\n",
        "    txt = txt[0].upper() + txt[1:]  # capitalize first character \n",
        "    print ('%s' % (txt, ), end='')\n",
        "\n",
        "def get_initial_loss(vocab_size, seq_length):\n",
        "    return -np.log(1.0/vocab_size)*seq_length\n",
        "\n",
        "def softmax(x):\n",
        "    e_x = np.exp(x - np.max(x))\n",
        "    return e_x / e_x.sum(axis=0)\n",
        "\n",
        "def initialize_parameters(n_a, n_x, n_y):\n",
        "    \"\"\"\n",
        "    Initialize parameters with small random values\n",
        "    \n",
        "    Returns:\n",
        "    parameters -- python dictionary containing:\n",
        "                        Wax -- Weight matrix multiplying the input, numpy array of shape (n_a, n_x)\n",
        "                        Waa -- Weight matrix multiplying the hidden state, numpy array of shape (n_a, n_a)\n",
        "                        Wya -- Weight matrix relating the hidden-state to the output, numpy array of shape (n_y, n_a)\n",
        "                        b --  Bias, numpy array of shape (n_a, 1)\n",
        "                        by -- Bias relating the hidden-state to the output, numpy array of shape (n_y, 1)\n",
        "    \"\"\"\n",
        "    np.random.seed(1)\n",
        "    Wax = np.random.randn(n_a, n_x)*0.01 # input to hidden\n",
        "    Waa = np.random.randn(n_a, n_a)*0.01 # hidden to hidden\n",
        "    Wya = np.random.randn(n_y, n_a)*0.01 # hidden to output\n",
        "    b = np.zeros((n_a, 1)) # hidden bias\n",
        "    by = np.zeros((n_y, 1)) # output bias\n",
        "    \n",
        "    parameters = {\"Wax\": Wax, \"Waa\": Waa, \"Wya\": Wya, \"b\": b,\"by\": by}\n",
        "    \n",
        "    return parameters\n",
        "\n",
        "def rnn_step_forward(parameters, a_prev, x):\n",
        "    \n",
        "    Waa, Wax, Wya, by, b = parameters['Waa'], parameters['Wax'], parameters['Wya'], parameters['by'], parameters['b']\n",
        "    a_next = np.tanh(np.dot(Wax, x) + np.dot(Waa, a_prev) + b) # hidden state\n",
        "    p_t = softmax(np.dot(Wya, a_next) + by) # unnormalized log probabilities for next chars # probabilities for next chars \n",
        "    \n",
        "    return a_next, p_t\n",
        "\n",
        "def rnn_step_backward(dy, gradients, parameters, x, a, a_prev):\n",
        "    \n",
        "    gradients['dWya'] += np.dot(dy, a.T)\n",
        "    gradients['dby'] += dy\n",
        "    da = np.dot(parameters['Wya'].T, dy) + gradients['da_next'] # backprop into h\n",
        "    daraw = (1 - a * a) * da # backprop through tanh nonlinearity\n",
        "    gradients['db'] += daraw\n",
        "    gradients['dWax'] += np.dot(daraw, x.T)\n",
        "    gradients['dWaa'] += np.dot(daraw, a_prev.T)\n",
        "    gradients['da_next'] = np.dot(parameters['Waa'].T, daraw)\n",
        "    return gradients\n",
        "\n",
        "def update_parameters(parameters, gradients, lr):\n",
        "\n",
        "    parameters['Wax'] += -lr * gradients['dWax']\n",
        "    parameters['Waa'] += -lr * gradients['dWaa']\n",
        "    parameters['Wya'] += -lr * gradients['dWya']\n",
        "    parameters['b']  += -lr * gradients['db']\n",
        "    parameters['by']  += -lr * gradients['dby']\n",
        "    return parameters\n",
        "\n",
        "def rnn_forward(X, Y, a0, parameters, vocab_size = 27):\n",
        "    \n",
        "    # Initialize x, a and y_hat as empty dictionaries\n",
        "    x, a, y_hat = {}, {}, {}\n",
        "    \n",
        "    a[-1] = np.copy(a0)\n",
        "    \n",
        "    # initialize your loss to 0\n",
        "    loss = 0\n",
        "    \n",
        "    for t in range(len(X)):\n",
        "        \n",
        "        # Set x[t] to be the one-hot vector representation of the t'th character in X.\n",
        "        # if X[t] == None, we just have x[t]=0. This is used to set the input for the first timestep to the zero vector. \n",
        "        x[t] = np.zeros((vocab_size,1)) \n",
        "        if (X[t] != None):\n",
        "            x[t][X[t]] = 1\n",
        "        \n",
        "        # Run one step forward of the RNN\n",
        "        a[t], y_hat[t] = rnn_step_forward(parameters, a[t-1], x[t])\n",
        "        \n",
        "        # Update the loss by substracting the cross-entropy term of this time-step from it.\n",
        "        loss -= np.log(y_hat[t][Y[t],0])\n",
        "        \n",
        "    cache = (y_hat, a, x)\n",
        "        \n",
        "    return loss, cache\n",
        "\n",
        "def rnn_backward(X, Y, parameters, cache):\n",
        "    # Initialize gradients as an empty dictionary\n",
        "    gradients = {}\n",
        "    \n",
        "    # Retrieve from cache and parameters\n",
        "    (y_hat, a, x) = cache\n",
        "    Waa, Wax, Wya, by, b = parameters['Waa'], parameters['Wax'], parameters['Wya'], parameters['by'], parameters['b']\n",
        "    \n",
        "    # each one should be initialized to zeros of the same dimension as its corresponding parameter\n",
        "    gradients['dWax'], gradients['dWaa'], gradients['dWya'] = np.zeros_like(Wax), np.zeros_like(Waa), np.zeros_like(Wya)\n",
        "    gradients['db'], gradients['dby'] = np.zeros_like(b), np.zeros_like(by)\n",
        "    gradients['da_next'] = np.zeros_like(a[0])\n",
        "    \n",
        "    ### START CODE HERE ###\n",
        "    # Backpropagate through time\n",
        "    for t in reversed(range(len(X))):\n",
        "        dy = np.copy(y_hat[t])\n",
        "        dy[Y[t]] -= 1\n",
        "        gradients = rnn_step_backward(dy, gradients, parameters, x[t], a[t], a[t-1])\n",
        "    ### END CODE HERE ###\n",
        "    \n",
        "    return gradients, a\n",
        "\n"
      ],
      "execution_count": 0,
      "outputs": []
    },
    {
      "cell_type": "markdown",
      "metadata": {
        "collapsed": true,
        "id": "DkQTTVN9JL7z",
        "colab_type": "text"
      },
      "source": [
        "## 1 - Problem Statement\n",
        "\n",
        "### 1.1 - Dataset and Preprocessing\n",
        "\n",
        "Run the following cell to read the dataset of dinosaur names, create a list of unique characters (such as a-z), and compute the dataset and vocabulary size. "
      ]
    },
    {
      "cell_type": "code",
      "metadata": {
        "id": "55xqvUJ-Knpx",
        "colab_type": "code",
        "colab": {
          "base_uri": "https://localhost:8080/",
          "height": 35
        },
        "cellView": "form",
        "outputId": "71c5c8cb-78ce-45d8-81a8-5f551b32d700"
      },
      "source": [
        "#@title download dinos.txt\n",
        "import urllib\n",
        "dinos = 'https://raw.githubusercontent.com/csaybar/DLcoursera/master/Sequence%20Models/week01/Dinosaur%20Island%20--%20Character-level%20language%20model/dinos.txt'\n",
        "urllib.request.urlretrieve(dinos, 'dinos.txt')"
      ],
      "execution_count": 7,
      "outputs": [
        {
          "output_type": "execute_result",
          "data": {
            "text/plain": [
              "('dinos.txt', <http.client.HTTPMessage at 0x7fb5c86f2e48>)"
            ]
          },
          "metadata": {
            "tags": []
          },
          "execution_count": 7
        }
      ]
    },
    {
      "cell_type": "code",
      "metadata": {
        "id": "UXll2UrcJL70",
        "colab_type": "code",
        "colab": {
          "base_uri": "https://localhost:8080/",
          "height": 35
        },
        "outputId": "70ad315d-5807-4c5d-9bba-7d8e4862f0d0"
      },
      "source": [
        "data = open('dinos.txt', 'r').read()\n",
        "data= data.lower()\n",
        "chars = list(set(data))\n",
        "data_size, vocab_size = len(data), len(chars)\n",
        "print('There are %d total characters and %d unique characters in your data.' % (data_size, vocab_size))"
      ],
      "execution_count": 8,
      "outputs": [
        {
          "output_type": "stream",
          "text": [
            "There are 19909 total characters and 27 unique characters in your data.\n"
          ],
          "name": "stdout"
        }
      ]
    },
    {
      "cell_type": "markdown",
      "metadata": {
        "id": "0zhcdyB1JL8B",
        "colab_type": "text"
      },
      "source": [
        "The characters are a-z (26 characters) plus the \"\\n\" (or newline character), which in this assignment plays a role similar to the `<EOS>` (or \"End of sentence\") token we had discussed in lecture, only here it indicates the end of the dinosaur name rather than the end of a sentence. In the cell below, we create a python dictionary (i.e., a hash table) to map each character to an index from 0-26. We also create a second python dictionary that maps each index back to the corresponding character character. This will help you figure out what index corresponds to what character in the probability distribution output of the softmax layer. Below, `char_to_ix` and `ix_to_char` are the python dictionaries. "
      ]
    },
    {
      "cell_type": "code",
      "metadata": {
        "id": "23PwOGRvJL8D",
        "colab_type": "code",
        "colab": {
          "base_uri": "https://localhost:8080/",
          "height": 55
        },
        "outputId": "dfef7a3e-3fb7-43e8-9109-b4800b3d5c68"
      },
      "source": [
        "char_to_ix = { ch:i for i,ch in enumerate(sorted(chars)) }\n",
        "ix_to_char = { i:ch for i,ch in enumerate(sorted(chars)) }\n",
        "print(ix_to_char)"
      ],
      "execution_count": 9,
      "outputs": [
        {
          "output_type": "stream",
          "text": [
            "{0: '\\n', 1: 'a', 2: 'b', 3: 'c', 4: 'd', 5: 'e', 6: 'f', 7: 'g', 8: 'h', 9: 'i', 10: 'j', 11: 'k', 12: 'l', 13: 'm', 14: 'n', 15: 'o', 16: 'p', 17: 'q', 18: 'r', 19: 's', 20: 't', 21: 'u', 22: 'v', 23: 'w', 24: 'x', 25: 'y', 26: 'z'}\n"
          ],
          "name": "stdout"
        }
      ]
    },
    {
      "cell_type": "markdown",
      "metadata": {
        "id": "PxtYcA00JL8K",
        "colab_type": "text"
      },
      "source": [
        "### 1.2 - Overview of the model\n",
        "\n",
        "Your model will have the following structure: \n",
        "\n",
        "- Initialize parameters \n",
        "- Run the optimization loop\n",
        "    - Forward propagation to compute the loss function\n",
        "    - Backward propagation to compute the gradients with respect to the loss function\n",
        "    - Clip the gradients to avoid exploding gradients\n",
        "    - Using the gradients, update your parameter with the gradient descent update rule.\n",
        "- Return the learned parameters \n",
        "    \n",
        "<img src=\"https://github.com/csaybar/DLcoursera/blob/master/Sequence%20Models/week01/Dinosaur%20Island%20--%20Character-level%20language%20model/images/rnn.png?raw=1\" style=\"width:450;height:300px;\">\n",
        "<caption><center> **Figure 1**: Recurrent Neural Network, similar to what you had built in the previous notebook \"Building a RNN - Step by Step\".  </center></caption>\n",
        "\n",
        "At each time-step, the RNN tries to predict what is the next character given the previous characters. The dataset $X = (x^{\\langle 1 \\rangle}, x^{\\langle 2 \\rangle}, ..., x^{\\langle T_x \\rangle})$ is a list of characters in the training set, while $Y = (y^{\\langle 1 \\rangle}, y^{\\langle 2 \\rangle}, ..., y^{\\langle T_x \\rangle})$ is such that at every time-step $t$, we have $y^{\\langle t \\rangle} = x^{\\langle t+1 \\rangle}$. "
      ]
    },
    {
      "cell_type": "markdown",
      "metadata": {
        "id": "D6cU-wKPJL8L",
        "colab_type": "text"
      },
      "source": [
        "## 2 - Building blocks of the model\n",
        "\n",
        "In this part, you will build two important blocks of the overall model:\n",
        "- Gradient clipping: to avoid exploding gradients\n",
        "- Sampling: a technique used to generate characters\n",
        "\n",
        "You will then apply these two functions to build the model."
      ]
    },
    {
      "cell_type": "markdown",
      "metadata": {
        "id": "GZruvhPLJL8M",
        "colab_type": "text"
      },
      "source": [
        "### 2.1 - Clipping the gradients in the optimization loop\n",
        "\n",
        "In this section you will implement the `clip` function that you will call inside of your optimization loop. Recall that your overall loop structure usually consists of a forward pass, a cost computation, a backward pass, and a parameter update. Before updating the parameters, you will perform gradient clipping when needed to make sure that your gradients are not \"exploding,\" meaning taking on overly large values. \n",
        "\n",
        "In the exercise below, you will implement a function `clip` that takes in a dictionary of gradients and returns a clipped version of gradients if needed. There are different ways to clip gradients; we will use a simple element-wise clipping procedure, in which every element of the gradient vector is clipped to lie between some range [-N, N]. More generally, you will provide a `maxValue` (say 10). In this example, if any component of the gradient vector is greater than 10, it would be set to 10; and if any component of the gradient vector is less than -10, it would be set to -10. If it is between -10 and 10, it is left alone. \n",
        "\n",
        "<img src=\"https://github.com/csaybar/DLcoursera/blob/master/Sequence%20Models/week01/Dinosaur%20Island%20--%20Character-level%20language%20model/images/clip.png?raw=1\" style=\"width:400;height:150px;\">\n",
        "<caption><center> **Figure 2**: Visualization of gradient descent with and without gradient clipping, in a case where the network is running into slight \"exploding gradient\" problems. </center></caption>\n",
        "\n",
        "**Exercise**: Implement the function below to return the clipped gradients of your dictionary `gradients`. Your function takes in a maximum threshold and returns the clipped versions of your gradients. You can check out this [hint](https://docs.scipy.org/doc/numpy-1.13.0/reference/generated/numpy.clip.html) for examples of how to clip in numpy. You will need to use the argument `out = ...`."
      ]
    },
    {
      "cell_type": "code",
      "metadata": {
        "id": "AP1NVtS1JL8Q",
        "colab_type": "code",
        "colab": {}
      },
      "source": [
        "### GRADED FUNCTION: clip\n",
        "\n",
        "def clip(gradients, maxValue):\n",
        "    '''\n",
        "    Clips the gradients' values between minimum and maximum.\n",
        "    \n",
        "    Arguments:\n",
        "    gradients -- a dictionary containing the gradients \"dWaa\", \"dWax\", \"dWya\", \"db\", \"dby\"\n",
        "    maxValue -- everything above this number is set to this number, and everything less than -maxValue is set to -maxValue\n",
        "    \n",
        "    Returns: \n",
        "    gradients -- a dictionary with the clipped gradients.\n",
        "    '''\n",
        "    \n",
        "    dWaa, dWax, dWya, db, dby = gradients['dWaa'], gradients['dWax'], gradients['dWya'], gradients['db'], gradients['dby']\n",
        "   \n",
        "    ### START CODE HERE ###\n",
        "    # clip to mitigate exploding gradients, loop over [dWax, dWaa, dWya, db, dby]. (≈2 lines)\n",
        "    for gradient in [dWax, dWaa, dWya, db, dby]:\n",
        "        np.clip(gradient, -maxValue, maxValue, out=gradient)\n",
        "    ### END CODE HERE ###\n",
        "    \n",
        "    gradients = {\"dWaa\": dWaa, \"dWax\": dWax, \"dWya\": dWya, \"db\": db, \"dby\": dby}\n",
        "    \n",
        "    return gradients"
      ],
      "execution_count": 0,
      "outputs": []
    },
    {
      "cell_type": "code",
      "metadata": {
        "id": "Tacy91JtJL8T",
        "colab_type": "code",
        "colab": {
          "base_uri": "https://localhost:8080/",
          "height": 107
        },
        "outputId": "e0fdc27b-67f4-402b-93fa-3090f8089fd3"
      },
      "source": [
        "np.random.seed(3)\n",
        "dWax = np.random.randn(5,3)*10\n",
        "dWaa = np.random.randn(5,5)*10\n",
        "dWya = np.random.randn(2,5)*10\n",
        "db = np.random.randn(5,1)*10\n",
        "dby = np.random.randn(2,1)*10\n",
        "gradients = {\"dWax\": dWax, \"dWaa\": dWaa, \"dWya\": dWya, \"db\": db, \"dby\": dby}\n",
        "gradients = clip(gradients, 10)\n",
        "print(\"gradients[\\\"dWaa\\\"][1][2] =\", gradients[\"dWaa\"][1][2])\n",
        "print(\"gradients[\\\"dWax\\\"][3][1] =\", gradients[\"dWax\"][3][1])\n",
        "print(\"gradients[\\\"dWya\\\"][1][2] =\", gradients[\"dWya\"][1][2])\n",
        "print(\"gradients[\\\"db\\\"][4] =\", gradients[\"db\"][4])\n",
        "print(\"gradients[\\\"dby\\\"][1] =\", gradients[\"dby\"][1])"
      ],
      "execution_count": 11,
      "outputs": [
        {
          "output_type": "stream",
          "text": [
            "gradients[\"dWaa\"][1][2] = 10.0\n",
            "gradients[\"dWax\"][3][1] = -10.0\n",
            "gradients[\"dWya\"][1][2] = 0.2971381536101662\n",
            "gradients[\"db\"][4] = [10.]\n",
            "gradients[\"dby\"][1] = [8.45833407]\n"
          ],
          "name": "stdout"
        }
      ]
    },
    {
      "cell_type": "markdown",
      "metadata": {
        "id": "VI4tqdoBJL8Z",
        "colab_type": "text"
      },
      "source": [
        "** Expected output:**\n",
        "\n",
        "<table>\n",
        "<tr>\n",
        "    <td> \n",
        "    **gradients[\"dWaa\"][1][2] **\n",
        "    </td>\n",
        "    <td> \n",
        "    10.0\n",
        "    </td>\n",
        "</tr>\n",
        "\n",
        "<tr>\n",
        "    <td> \n",
        "    **gradients[\"dWax\"][3][1]**\n",
        "    </td>\n",
        "    <td> \n",
        "    -10.0\n",
        "    </td>\n",
        "    </td>\n",
        "</tr>\n",
        "<tr>\n",
        "    <td> \n",
        "    **gradients[\"dWya\"][1][2]**\n",
        "    </td>\n",
        "    <td> \n",
        "0.29713815361\n",
        "    </td>\n",
        "</tr>\n",
        "<tr>\n",
        "    <td> \n",
        "    **gradients[\"db\"][4]**\n",
        "    </td>\n",
        "    <td> \n",
        "[ 10.]\n",
        "    </td>\n",
        "</tr>\n",
        "<tr>\n",
        "    <td> \n",
        "    **gradients[\"dby\"][1]**\n",
        "    </td>\n",
        "    <td> \n",
        "[ 8.45833407]\n",
        "    </td>\n",
        "</tr>\n",
        "\n",
        "</table>"
      ]
    },
    {
      "cell_type": "markdown",
      "metadata": {
        "id": "QRkTX6PdJL8a",
        "colab_type": "text"
      },
      "source": [
        "### 2.2 - Sampling\n",
        "\n",
        "Now assume that your model is trained. You would like to generate new text (characters). The process of generation is explained in the picture below:\n",
        "\n",
        "<img src=\"https://github.com/csaybar/DLcoursera/blob/master/Sequence%20Models/week01/Dinosaur%20Island%20--%20Character-level%20language%20model/images/dinos3.png?raw=1\" style=\"width:500;height:300px;\">\n",
        "<caption><center> **Figure 3**: In this picture, we assume the model is already trained. We pass in $x^{\\langle 1\\rangle} = \\vec{0}$ at the first time step, and have the network then sample one character at a time. </center></caption>\n",
        "\n",
        "**Exercise**: Implement the `sample` function below to sample characters. You need to carry out 4 steps:\n",
        "\n",
        "- **Step 1**: Pass the network the first \"dummy\" input $x^{\\langle 1 \\rangle} = \\vec{0}$ (the vector of zeros). This is the default input before we've generated any characters. We also set $a^{\\langle 0 \\rangle} = \\vec{0}$\n",
        "\n",
        "- **Step 2**: Run one step of forward propagation to get $a^{\\langle 1 \\rangle}$ and $\\hat{y}^{\\langle 1 \\rangle}$. Here are the equations:\n",
        "\n",
        "$$ a^{\\langle t+1 \\rangle} = \\tanh(W_{ax}  x^{\\langle t \\rangle } + W_{aa} a^{\\langle t \\rangle } + b)\\tag{1}$$\n",
        "\n",
        "$$ z^{\\langle t + 1 \\rangle } = W_{ya}  a^{\\langle t + 1 \\rangle } + b_y \\tag{2}$$\n",
        "\n",
        "$$ \\hat{y}^{\\langle t+1 \\rangle } = softmax(z^{\\langle t + 1 \\rangle })\\tag{3}$$\n",
        "\n",
        "Note that $\\hat{y}^{\\langle t+1 \\rangle }$ is a (softmax) probability vector (its entries are between 0 and 1 and sum to 1). $\\hat{y}^{\\langle t+1 \\rangle}_i$ represents the probability that the character indexed by \"i\" is the next character.  We have provided a `softmax()` function that you can use.\n",
        "\n",
        "- **Step 3**: Carry out sampling: Pick the next character's index according to the probability distribution specified by $\\hat{y}^{\\langle t+1 \\rangle }$. This means that if $\\hat{y}^{\\langle t+1 \\rangle }_i = 0.16$, you will pick the index \"i\" with 16% probability. To implement it, you can use [`np.random.choice`](https://docs.scipy.org/doc/numpy-1.13.0/reference/generated/numpy.random.choice.html).\n",
        "\n",
        "Here is an example of how to use `np.random.choice()`:\n",
        "```python\n",
        "np.random.seed(0)\n",
        "p = np.array([0.1, 0.0, 0.7, 0.2])\n",
        "index = np.random.choice([0, 1, 2, 3], p = p.ravel())\n",
        "```\n",
        "This means that you will pick the `index` according to the distribution: \n",
        "$P(index = 0) = 0.1, P(index = 1) = 0.0, P(index = 2) = 0.7, P(index = 3) = 0.2$.\n",
        "\n",
        "- **Step 4**: The last step to implement in `sample()` is to overwrite the variable `x`, which currently stores $x^{\\langle t \\rangle }$, with the value of $x^{\\langle t + 1 \\rangle }$. You will represent $x^{\\langle t + 1 \\rangle }$ by creating a one-hot vector corresponding to the character you've chosen as your prediction. You will then forward propagate $x^{\\langle t + 1 \\rangle }$ in Step 1 and keep repeating the process until you get a \"\\n\" character, indicating you've reached the end of the dinosaur name. "
      ]
    },
    {
      "cell_type": "code",
      "metadata": {
        "id": "Wj5WKiTlRe90",
        "colab_type": "code",
        "colab": {
          "base_uri": "https://localhost:8080/",
          "height": 35
        },
        "outputId": "14054806-1e4d-4260-ac8b-7a2c320173f3"
      },
      "source": [
        "np.random.seed(10)\n",
        "p = np.array([0.1, 0.0, 0.7, 0.2])\n",
        "index = np.random.choice([0, 1, 2, 3], p = p.ravel())\n",
        "index"
      ],
      "execution_count": 61,
      "outputs": [
        {
          "output_type": "execute_result",
          "data": {
            "text/plain": [
              "3"
            ]
          },
          "metadata": {
            "tags": []
          },
          "execution_count": 61
        }
      ]
    },
    {
      "cell_type": "code",
      "metadata": {
        "id": "-SYubi0TJL8c",
        "colab_type": "code",
        "colab": {}
      },
      "source": [
        "# GRADED FUNCTION: sample\n",
        "\n",
        "def sample(parameters, char_to_ix, seed):\n",
        "    \"\"\"\n",
        "    Sample a sequence of characters according to a sequence of probability distributions output of the RNN\n",
        "\n",
        "    Arguments:\n",
        "    parameters -- python dictionary containing the parameters Waa, Wax, Wya, by, and b. \n",
        "    char_to_ix -- python dictionary mapping each character to an index.\n",
        "    seed -- used for grading purposes. Do not worry about it.\n",
        "\n",
        "    Returns:\n",
        "    indices -- a list of length n containing the indices of the sampled characters.\n",
        "    \"\"\"\n",
        "    \n",
        "    # Retrieve parameters and relevant shapes from \"parameters\" dictionary\n",
        "    Waa, Wax, Wya, by, b = parameters['Waa'], parameters['Wax'], parameters['Wya'], parameters['by'], parameters['b']\n",
        "    vocab_size = by.shape[0]\n",
        "    n_a = Waa.shape[1]\n",
        "    \n",
        "    ### START CODE HERE ###\n",
        "    # Step 1: Create the one-hot vector x for the first character (initializing the sequence generation). (≈1 line)\n",
        "    x = np.zeros((vocab_size, 1))\n",
        "    # Step 1': Initialize a_prev as zeros (≈1 line)\n",
        "    a_prev = np.zeros((n_a, 1))\n",
        "    \n",
        "    # Create an empty list of indices, this is the list which will contain the list of indices of the characters to generate (≈1 line)\n",
        "    indices = []\n",
        "    \n",
        "    # Idx is a flag to detect a newline character, we initialize it to -1\n",
        "    idx = -1 \n",
        "    \n",
        "    # Loop over time-steps t. At each time-step, sample a character from a probability distribution and append \n",
        "    # its index to \"indices\". We'll stop if we reach 50 characters (which should be very unlikely with a well \n",
        "    # trained model), which helps debugging and prevents entering an infinite loop. \n",
        "    counter = 0\n",
        "    newline_character = char_to_ix['\\n']\n",
        "    \n",
        "    while (idx != newline_character and counter != 50):        \n",
        "        # Step 2: Forward propagate x using the equations (1), (2) and (3)\n",
        "        a = np.tanh(np.dot(Wax, x) + np.dot(Waa, a_prev) + b)\n",
        "        z = np.dot(Wya, a) + by\n",
        "        y = softmax(z)\n",
        "        \n",
        "        # for grading purposes\n",
        "        np.random.seed(counter+seed) \n",
        "        \n",
        "        # Step 3: Sample the index of a character within the vocabulary from the probability distribution y\n",
        "        idx = np.random.choice(list(range(vocab_size)), p = y.ravel())\n",
        "\n",
        "        # Append the index to \"indices\"\n",
        "        indices.append(idx)\n",
        "        \n",
        "        # Step 4: Overwrite the input character as the one corresponding to the sampled index.\n",
        "        x = np.zeros((vocab_size, 1))\n",
        "        x[idx] = 1\n",
        "        \n",
        "        # Update \"a_prev\" to be \"a\"\n",
        "        a_prev = a\n",
        "        \n",
        "        # for grading purposes\n",
        "        seed += 1\n",
        "        counter +=1\n",
        "        \n",
        "    ### END CODE HERE ###\n",
        "\n",
        "    if (counter == 50):\n",
        "        indices.append(char_to_ix['\\n'])\n",
        "    \n",
        "    return indices"
      ],
      "execution_count": 0,
      "outputs": []
    },
    {
      "cell_type": "code",
      "metadata": {
        "id": "NFI59uWfJL8h",
        "colab_type": "code",
        "colab": {
          "base_uri": "https://localhost:8080/",
          "height": 91
        },
        "outputId": "6d352b57-6f05-4694-cb09-c51a328cff9a"
      },
      "source": [
        "np.random.seed(2)\n",
        "_, n_a = 20, 100\n",
        "Wax, Waa, Wya = np.random.randn(n_a, vocab_size), np.random.randn(n_a, n_a), np.random.randn(vocab_size, n_a)\n",
        "b, by = np.random.randn(n_a, 1), np.random.randn(vocab_size, 1)\n",
        "parameters = {\"Wax\": Wax, \"Waa\": Waa, \"Wya\": Wya, \"b\": b, \"by\": by}\n",
        "\n",
        "\n",
        "indices = sample(parameters, char_to_ix, 0)\n",
        "print(\"Sampling:\")\n",
        "print(\"list of sampled indices:\", indices)\n",
        "print(\"list of sampled characters:\", [ix_to_char[i] for i in indices])"
      ],
      "execution_count": 37,
      "outputs": [
        {
          "output_type": "stream",
          "text": [
            "Sampling:\n",
            "list of sampled indices: [12, 17, 24, 14, 13, 9, 10, 22, 24, 6, 13, 11, 12, 6, 21, 15, 21, 14, 3, 2, 1, 21, 18, 24, 7, 25, 6, 25, 18, 10, 16, 2, 3, 8, 15, 12, 11, 7, 1, 12, 10, 2, 7, 7, 11, 17, 24, 12, 13, 24, 0]\n",
            "list of sampled characters: ['l', 'q', 'x', 'n', 'm', 'i', 'j', 'v', 'x', 'f', 'm', 'k', 'l', 'f', 'u', 'o', 'u', 'n', 'c', 'b', 'a', 'u', 'r', 'x', 'g', 'y', 'f', 'y', 'r', 'j', 'p', 'b', 'c', 'h', 'o', 'l', 'k', 'g', 'a', 'l', 'j', 'b', 'g', 'g', 'k', 'q', 'x', 'l', 'm', 'x', '\\n']\n"
          ],
          "name": "stdout"
        }
      ]
    },
    {
      "cell_type": "markdown",
      "metadata": {
        "id": "CU4TKY42JL8l",
        "colab_type": "text"
      },
      "source": [
        "** Expected output:**\n",
        "<table>\n",
        "<tr>\n",
        "    <td> \n",
        "    **list of sampled indices:**\n",
        "    </td>\n",
        "    <td> \n",
        "    [12, 17, 24, 14, 13, 9, 10, 22, 24, 6, 13, 11, 12, 6, 21, 15, 21, 14, 3, 2, 1, 21, 18, 24, <br>\n",
        "    7, 25, 6, 25, 18, 10, 16, 2, 3, 8, 15, 12, 11, 7, 1, 12, 10, 2, 7, 7, 11, 5, 6, 12, 25, 0, 0]\n",
        "    </td>\n",
        "    </tr><tr>\n",
        "    <td> \n",
        "    **list of sampled characters:**\n",
        "    </td>\n",
        "    <td> \n",
        "    ['l', 'q', 'x', 'n', 'm', 'i', 'j', 'v', 'x', 'f', 'm', 'k', 'l', 'f', 'u', 'o', <br>\n",
        "    'u', 'n', 'c', 'b', 'a', 'u', 'r', 'x', 'g', 'y', 'f', 'y', 'r', 'j', 'p', 'b', 'c', 'h', 'o', <br>\n",
        "    'l', 'k', 'g', 'a', 'l', 'j', 'b', 'g', 'g', 'k', 'e', 'f', 'l', 'y', '\\n', '\\n']\n",
        "    </td>\n",
        "    \n",
        "        \n",
        "    \n",
        "</tr>\n",
        "</table>"
      ]
    },
    {
      "cell_type": "markdown",
      "metadata": {
        "id": "8yy5ES92JL8n",
        "colab_type": "text"
      },
      "source": [
        "## 3 - Building the language model \n",
        "\n",
        "It is time to build the character-level language model for text generation. \n",
        "\n",
        "\n",
        "### 3.1 - Gradient descent \n",
        "\n",
        "In this section you will implement a function performing one step of stochastic gradient descent (with clipped gradients). You will go through the training examples one at a time, so the optimization algorithm will be stochastic gradient descent. As a reminder, here are the steps of a common optimization loop for an RNN:\n",
        "\n",
        "- Forward propagate through the RNN to compute the loss\n",
        "- Backward propagate through time to compute the gradients of the loss with respect to the parameters\n",
        "- Clip the gradients if necessary \n",
        "- Update your parameters using gradient descent \n",
        "\n",
        "**Exercise**: Implement this optimization process (one step of stochastic gradient descent). \n",
        "\n",
        "We provide you with the following functions: \n",
        "\n",
        "```python\n",
        "def rnn_forward(X, Y, a_prev, parameters):\n",
        "    \"\"\" Performs the forward propagation through the RNN and computes the cross-entropy loss.\n",
        "    It returns the loss' value as well as a \"cache\" storing values to be used in the backpropagation.\"\"\"\n",
        "    ....\n",
        "    return loss, cache\n",
        "    \n",
        "def rnn_backward(X, Y, parameters, cache):\n",
        "    \"\"\" Performs the backward propagation through time to compute the gradients of the loss with respect\n",
        "    to the parameters. It returns also all the hidden states.\"\"\"\n",
        "    ...\n",
        "    return gradients, a\n",
        "\n",
        "def update_parameters(parameters, gradients, learning_rate):\n",
        "    \"\"\" Updates parameters using the Gradient Descent Update Rule.\"\"\"\n",
        "    ...\n",
        "    return parameters\n",
        "```"
      ]
    },
    {
      "cell_type": "code",
      "metadata": {
        "id": "Ut64gLoRJL8o",
        "colab_type": "code",
        "colab": {}
      },
      "source": [
        "# GRADED FUNCTION: optimize\n",
        "\n",
        "def optimize(X, Y, a_prev, parameters, learning_rate = 0.01):\n",
        "    \"\"\"\n",
        "    Execute one step of the optimization to train the model.\n",
        "    \n",
        "    Arguments:\n",
        "    X -- list of integers, where each integer is a number that maps to a character in the vocabulary.\n",
        "    Y -- list of integers, exactly the same as X but shifted one index to the left.\n",
        "    a_prev -- previous hidden state.\n",
        "    parameters -- python dictionary containing:\n",
        "                        Wax -- Weight matrix multiplying the input, numpy array of shape (n_a, n_x)\n",
        "                        Waa -- Weight matrix multiplying the hidden state, numpy array of shape (n_a, n_a)\n",
        "                        Wya -- Weight matrix relating the hidden-state to the output, numpy array of shape (n_y, n_a)\n",
        "                        b --  Bias, numpy array of shape (n_a, 1)\n",
        "                        by -- Bias relating the hidden-state to the output, numpy array of shape (n_y, 1)\n",
        "    learning_rate -- learning rate for the model.\n",
        "    \n",
        "    Returns:\n",
        "    loss -- value of the loss function (cross-entropy)\n",
        "    gradients -- python dictionary containing:\n",
        "                        dWax -- Gradients of input-to-hidden weights, of shape (n_a, n_x)\n",
        "                        dWaa -- Gradients of hidden-to-hidden weights, of shape (n_a, n_a)\n",
        "                        dWya -- Gradients of hidden-to-output weights, of shape (n_y, n_a)\n",
        "                        db -- Gradients of bias vector, of shape (n_a, 1)\n",
        "                        dby -- Gradients of output bias vector, of shape (n_y, 1)\n",
        "    a[len(X)-1] -- the last hidden state, of shape (n_a, 1)\n",
        "    \"\"\"\n",
        "    \n",
        "    ### START CODE HERE ###\n",
        "    \n",
        "    # Forward propagate through time (≈1 line)\n",
        "    loss, cache = rnn_forward(X, Y, a_prev, parameters)\n",
        "    \n",
        "    # Backpropagate through time (≈1 line)\n",
        "    gradients, a = rnn_backward(X, Y, parameters, cache)\n",
        "    \n",
        "    # Clip your gradients between -5 (min) and 5 (max) (≈1 line)\n",
        "    gradients = clip(gradients, maxValue=5)\n",
        "    \n",
        "    # Update parameters (≈1 line)\n",
        "    parameters = update_parameters(parameters, gradients, learning_rate)\n",
        "    \n",
        "    ### END CODE HERE ###\n",
        "    \n",
        "    return loss, gradients, a[len(X)-1]"
      ],
      "execution_count": 0,
      "outputs": []
    },
    {
      "cell_type": "code",
      "metadata": {
        "id": "ArkXd06jJL8w",
        "colab_type": "code",
        "colab": {
          "base_uri": "https://localhost:8080/",
          "height": 143
        },
        "outputId": "bad44a72-bb4e-40c8-aa98-87efa1f77353"
      },
      "source": [
        "np.random.seed(1)\n",
        "vocab_size, n_a = 27, 100\n",
        "a_prev = np.random.randn(n_a, 1)\n",
        "Wax, Waa, Wya = np.random.randn(n_a, vocab_size), np.random.randn(n_a, n_a), np.random.randn(vocab_size, n_a)\n",
        "b, by = np.random.randn(n_a, 1), np.random.randn(vocab_size, 1)\n",
        "parameters = {\"Wax\": Wax, \"Waa\": Waa, \"Wya\": Wya, \"b\": b, \"by\": by}\n",
        "X = [12,3,5,11,22,3]\n",
        "Y = [4,14,11,22,25, 26]\n",
        "\n",
        "loss, gradients, a_last = optimize(X, Y, a_prev, parameters, learning_rate = 0.01)\n",
        "print(\"Loss =\", loss)\n",
        "print(\"gradients[\\\"dWaa\\\"][1][2] =\", gradients[\"dWaa\"][1][2])\n",
        "print(\"np.argmax(gradients[\\\"dWax\\\"]) =\", np.argmax(gradients[\"dWax\"]))\n",
        "print(\"gradients[\\\"dWya\\\"][1][2] =\", gradients[\"dWya\"][1][2])\n",
        "print(\"gradients[\\\"db\\\"][4] =\", gradients[\"db\"][4])\n",
        "print(\"gradients[\\\"dby\\\"][1] =\", gradients[\"dby\"][1])\n",
        "print(\"a_last[4] =\", a_last[4])"
      ],
      "execution_count": 32,
      "outputs": [
        {
          "output_type": "stream",
          "text": [
            "Loss = 126.50397572165369\n",
            "gradients[\"dWaa\"][1][2] = 0.19470931534720928\n",
            "np.argmax(gradients[\"dWax\"]) = 93\n",
            "gradients[\"dWya\"][1][2] = -0.007773876032003706\n",
            "gradients[\"db\"][4] = [-0.06809825]\n",
            "gradients[\"dby\"][1] = [0.01538192]\n",
            "a_last[4] = [-1.]\n"
          ],
          "name": "stdout"
        }
      ]
    },
    {
      "cell_type": "markdown",
      "metadata": {
        "id": "kO6-GvGgJL82",
        "colab_type": "text"
      },
      "source": [
        "** Expected output:**\n",
        "\n",
        "<table>\n",
        "\n",
        "\n",
        "<tr>\n",
        "    <td> \n",
        "    **Loss **\n",
        "    </td>\n",
        "    <td> \n",
        "    126.503975722\n",
        "    </td>\n",
        "</tr>\n",
        "<tr>\n",
        "    <td> \n",
        "    **gradients[\"dWaa\"][1][2]**\n",
        "    </td>\n",
        "    <td> \n",
        "    0.194709315347\n",
        "    </td>\n",
        "<tr>\n",
        "    <td> \n",
        "    **np.argmax(gradients[\"dWax\"])**\n",
        "    </td>\n",
        "    <td> 93\n",
        "    </td>\n",
        "</tr>\n",
        "<tr>\n",
        "    <td> \n",
        "    **gradients[\"dWya\"][1][2]**\n",
        "    </td>\n",
        "    <td> -0.007773876032\n",
        "    </td>\n",
        "</tr>\n",
        "<tr>\n",
        "    <td> \n",
        "    **gradients[\"db\"][4]**\n",
        "    </td>\n",
        "    <td> [-0.06809825]\n",
        "    </td>\n",
        "</tr>\n",
        "<tr>\n",
        "    <td> \n",
        "    **gradients[\"dby\"][1]**\n",
        "    </td>\n",
        "    <td>[ 0.01538192]\n",
        "    </td>\n",
        "</tr>\n",
        "<tr>\n",
        "    <td> \n",
        "    **a_last[4]**\n",
        "    </td>\n",
        "    <td> [-1.]\n",
        "    </td>\n",
        "</tr>\n",
        "\n",
        "</table>"
      ]
    },
    {
      "cell_type": "markdown",
      "metadata": {
        "collapsed": true,
        "id": "NYFzMFY9JL83",
        "colab_type": "text"
      },
      "source": [
        "### 3.2 - Training the model "
      ]
    },
    {
      "cell_type": "markdown",
      "metadata": {
        "id": "quTKAydpJL85",
        "colab_type": "text"
      },
      "source": [
        "Given the dataset of dinosaur names, we use each line of the dataset (one name) as one training example. Every 100 steps of stochastic gradient descent, you will sample 10 randomly chosen names to see how the algorithm is doing. Remember to shuffle the dataset, so that stochastic gradient descent visits the examples in random order. \n",
        "\n",
        "**Exercise**: Follow the instructions and implement `model()`. When `examples[index]` contains one dinosaur name (string), to create an example (X, Y), you can use this:\n",
        "```python\n",
        "        index = j % len(examples)\n",
        "        X = [None] + [char_to_ix[ch] for ch in examples[index]] \n",
        "        Y = X[1:] + [char_to_ix[\"\\n\"]]\n",
        "```\n",
        "Note that we use: `index= j % len(examples)`, where `j = 1....num_iterations`, to make sure that `examples[index]` is always a valid statement (`index` is smaller than `len(examples)`).\n",
        "The first entry of `X` being `None` will be interpreted by `rnn_forward()` as setting $x^{\\langle 0 \\rangle} = \\vec{0}$. Further, this ensures that `Y` is equal to `X` but shifted one step to the left, and with an additional \"\\n\" appended to signify the end of the dinosaur name. "
      ]
    },
    {
      "cell_type": "code",
      "metadata": {
        "id": "ZQPEgsMlJL87",
        "colab_type": "code",
        "colab": {}
      },
      "source": [
        "# GRADED FUNCTION: model\n",
        "\n",
        "def model(data, ix_to_char, char_to_ix, num_iterations = 35000, n_a = 50, dino_names = 7, vocab_size = 27):\n",
        "    \"\"\"\n",
        "    Trains the model and generates dinosaur names. \n",
        "    \n",
        "    Arguments:\n",
        "    data -- text corpus\n",
        "    ix_to_char -- dictionary that maps the index to a character\n",
        "    char_to_ix -- dictionary that maps a character to an index\n",
        "    num_iterations -- number of iterations to train the model for\n",
        "    n_a -- number of units of the RNN cell\n",
        "    dino_names -- number of dinosaur names you want to sample at each iteration. \n",
        "    vocab_size -- number of unique characters found in the text, size of the vocabulary\n",
        "    \n",
        "    Returns:\n",
        "    parameters -- learned parameters\n",
        "    \"\"\"\n",
        "    \n",
        "    # Retrieve n_x and n_y from vocab_size\n",
        "    n_x, n_y = vocab_size, vocab_size\n",
        "    \n",
        "    # Initialize parameters\n",
        "    parameters = initialize_parameters(n_a, n_x, n_y)\n",
        "    \n",
        "    # Initialize loss (this is required because we want to smooth our loss, don't worry about it)\n",
        "    loss = get_initial_loss(vocab_size, dino_names)\n",
        "    \n",
        "    # Build list of all dinosaur names (training examples).\n",
        "    with open(\"dinos.txt\") as f:\n",
        "        examples = f.readlines()\n",
        "    examples = [x.lower().strip() for x in examples]\n",
        "    \n",
        "    # Shuffle list of all dinosaur names\n",
        "    np.random.seed(0)\n",
        "    np.random.shuffle(examples)\n",
        "    \n",
        "    # Initialize the hidden state of your LSTM\n",
        "    a_prev = np.zeros((n_a, 1))\n",
        "    \n",
        "    # Optimization loop\n",
        "    for j in range(num_iterations):\n",
        "        \n",
        "        ### START CODE HERE ###\n",
        "        \n",
        "        # Use the hint above to define one training example (X,Y) (≈ 2 lines)\n",
        "        index = j % len(examples)\n",
        "        X = [None] + [char_to_ix[ch] for ch in examples[index]] \n",
        "        Y = X[1:] + [char_to_ix[\"\\n\"]]\n",
        "        \n",
        "        # Perform one optimization step: Forward-prop -> Backward-prop -> Clip -> Update parameters\n",
        "        # Choose a learning rate of 0.01\n",
        "        curr_loss, gradients, a_prev = optimize(X, Y, a_prev, parameters, learning_rate = 0.01)\n",
        "        \n",
        "        ### END CODE HERE ###\n",
        "        \n",
        "        # Use a latency trick to keep the loss smooth. It happens here to accelerate the training.\n",
        "        loss = smooth(loss, curr_loss)\n",
        "\n",
        "        # Every 2000 Iteration, generate \"n\" characters thanks to sample() to check if the model is learning properly\n",
        "        if j % 2000 == 0:\n",
        "            \n",
        "            print('Iteration: %d, Loss: %f' % (j, loss) + '\\n')\n",
        "            \n",
        "            # The number of dinosaur names to print\n",
        "            seed = 0\n",
        "            for name in range(dino_names):\n",
        "                \n",
        "                # Sample indices and print them\n",
        "                sampled_indices = sample(parameters, char_to_ix, seed)\n",
        "                print_sample(sampled_indices, ix_to_char)\n",
        "                \n",
        "                seed += 1  # To get the same result for grading purposed, increment the seed by one. \n",
        "      \n",
        "            print('\\n')\n",
        "        \n",
        "    return parameters"
      ],
      "execution_count": 0,
      "outputs": []
    },
    {
      "cell_type": "markdown",
      "metadata": {
        "id": "eVJBSqP9JL8-",
        "colab_type": "text"
      },
      "source": [
        "Run the following cell, you should observe your model outputting random-looking characters at the first iteration. After a few thousand iterations, your model should learn to generate reasonable-looking names. "
      ]
    },
    {
      "cell_type": "code",
      "metadata": {
        "scrolled": true,
        "id": "jtRqqVAoJL9A",
        "colab_type": "code",
        "colab": {}
      },
      "source": [
        "parameters = model(data, ix_to_char, char_to_ix)"
      ],
      "execution_count": 0,
      "outputs": []
    },
    {
      "cell_type": "markdown",
      "metadata": {
        "collapsed": true,
        "id": "ZR1mIUo2JL9F",
        "colab_type": "text"
      },
      "source": [
        "## Conclusion\n",
        "\n",
        "You can see that your algorithm has started to generate plausible dinosaur names towards the end of the training. At first, it was generating random characters, but towards the end you could see dinosaur names with cool endings. Feel free to run the algorithm even longer and play with hyperparameters to see if you can get even better results. Our implemetation generated some really cool names like `maconucon`, `marloralus` and `macingsersaurus`. Your model hopefully also learned that dinosaur names tend to end in `saurus`, `don`, `aura`, `tor`, etc.\n",
        "\n",
        "If your model generates some non-cool names, don't blame the model entirely--not all actual dinosaur names sound cool. (For example, `dromaeosauroides` is an actual dinosaur name and is in the training set.) But this model should give you a set of candidates from which you can pick the coolest! \n",
        "\n",
        "This assignment had used a relatively small dataset, so that you could train an RNN quickly on a CPU. Training a model of the english language requires a much bigger dataset, and usually needs much more computation, and could run for many hours on GPUs. We ran our dinosaur name for quite some time, and so far our favoriate name is the great, undefeatable, and fierce: Mangosaurus!\n",
        "\n",
        "<img src=\"https://github.com/csaybar/DLcoursera/blob/master/Sequence%20Models/week01/Dinosaur%20Island%20--%20Character-level%20language%20model/images/mangosaurus.jpeg?raw=1\" style=\"width:250;height:300px;\">"
      ]
    },
    {
      "cell_type": "markdown",
      "metadata": {
        "id": "w6NV5mTAJL9G",
        "colab_type": "text"
      },
      "source": [
        "## 4 - Writing like Shakespeare\n",
        "\n",
        "The rest of this notebook is optional and is not graded, but we hope you'll do it anyway since it's quite fun and informative. \n",
        "\n",
        "A similar (but more complicated) task is to generate Shakespeare poems. Instead of learning from a dataset of Dinosaur names you can use a collection of Shakespearian poems. Using LSTM cells, you can learn longer term dependencies that span many characters in the text--e.g., where a character appearing somewhere a sequence can influence what should be a different character much much later in ths sequence. These long term dependencies were less important with dinosaur names, since the names were quite short. \n",
        "\n",
        "\n",
        "<img src=\"https://github.com/csaybar/DLcoursera/blob/master/Sequence%20Models/week01/Dinosaur%20Island%20--%20Character-level%20language%20model/images/shakespeare.jpg?raw=1\" style=\"width:500;height:400px;\">\n",
        "<caption><center> Let's become poets! </center></caption>\n",
        "\n",
        "We have implemented a Shakespeare poem generator with Keras. Run the following cell to load the required packages and models. This may take a few minutes. "
      ]
    },
    {
      "cell_type": "code",
      "metadata": {
        "id": "0_-gyo7eJL9H",
        "colab_type": "code",
        "colab": {}
      },
      "source": [
        "from __future__ import print_function\n",
        "from keras.callbacks import LambdaCallback\n",
        "from keras.models import Model, load_model, Sequential\n",
        "from keras.layers import Dense, Activation, Dropout, Input, Masking\n",
        "from keras.layers import LSTM\n",
        "from keras.utils.data_utils import get_file\n",
        "from keras.preprocessing.sequence import pad_sequences\n",
        "import sys\n",
        "import io"
      ],
      "execution_count": 0,
      "outputs": []
    },
    {
      "cell_type": "code",
      "metadata": {
        "id": "XOT1ZpCTVBE-",
        "colab_type": "code",
        "colab": {
          "base_uri": "https://localhost:8080/",
          "height": 163
        },
        "cellView": "form",
        "outputId": "a4722ae4-5648-4707-8e0f-16bbf3877d9d"
      },
      "source": [
        "#@title shakespeare_utils\n",
        "from __future__ import print_function\n",
        "from keras.callbacks import LambdaCallback\n",
        "from keras.models import Model, load_model, Sequential\n",
        "from keras.layers import Dense, Activation, Dropout, Input, Masking\n",
        "from keras.layers import LSTM\n",
        "from keras.utils.data_utils import get_file\n",
        "from keras.preprocessing.sequence import pad_sequences\n",
        "import numpy as np\n",
        "import random\n",
        "import sys\n",
        "import io\n",
        "\n",
        "import urllib\n",
        "dinos = 'https://github.com/csaybar/DLcoursera/raw/master/Sequence%20Models/week01/Dinosaur%20Island%20--%20Character-level%20language%20model/models/model_shakespeare_kiank_350_epoch.h5'\n",
        "urllib.request.urlretrieve(dinos, 'model_shakespeare_kiank_350_epoch.h5')\n",
        "\n",
        "dinos = 'https://raw.githubusercontent.com/csaybar/DLcoursera/master/Sequence%20Models/week01/Dinosaur%20Island%20--%20Character-level%20language%20model/shakespeare.txt'\n",
        "urllib.request.urlretrieve(dinos, 'shakespeare.txt')\n",
        "\n",
        "def build_data(text, Tx = 40, stride = 3):\n",
        "    \"\"\"\n",
        "    Create a training set by scanning a window of size Tx over the text corpus, with stride 3.\n",
        "    \n",
        "    Arguments:\n",
        "    text -- string, corpus of Shakespearian poem\n",
        "    Tx -- sequence length, number of time-steps (or characters) in one training example\n",
        "    stride -- how much the window shifts itself while scanning\n",
        "    \n",
        "    Returns:\n",
        "    X -- list of training examples\n",
        "    Y -- list of training labels\n",
        "    \"\"\"\n",
        "    \n",
        "    X = []\n",
        "    Y = []\n",
        "\n",
        "    ### START CODE HERE ### (≈ 3 lines)\n",
        "    for i in range(0, len(text) - Tx, stride):\n",
        "        X.append(text[i: i + Tx])\n",
        "        Y.append(text[i + Tx])\n",
        "    ### END CODE HERE ###\n",
        "    \n",
        "    print('number of training examples:', len(X))\n",
        "    \n",
        "    return X, Y\n",
        "\n",
        "\n",
        "def vectorization(X, Y, n_x, char_indices, Tx = 40):\n",
        "    \"\"\"\n",
        "    Convert X and Y (lists) into arrays to be given to a recurrent neural network.\n",
        "    \n",
        "    Arguments:\n",
        "    X -- \n",
        "    Y -- \n",
        "    Tx -- integer, sequence length\n",
        "    \n",
        "    Returns:\n",
        "    x -- array of shape (m, Tx, len(chars))\n",
        "    y -- array of shape (m, len(chars))\n",
        "    \"\"\"\n",
        "    \n",
        "    m = len(X)\n",
        "    x = np.zeros((m, Tx, n_x), dtype=np.bool)\n",
        "    y = np.zeros((m, n_x), dtype=np.bool)\n",
        "    for i, sentence in enumerate(X):\n",
        "        for t, char in enumerate(sentence):\n",
        "            x[i, t, char_indices[char]] = 1\n",
        "        y[i, char_indices[Y[i]]] = 1\n",
        "        \n",
        "    return x, y \n",
        "\n",
        "\n",
        "def sample(preds, temperature=1.0):\n",
        "    # helper function to sample an index from a probability array\n",
        "    preds = np.asarray(preds).astype('float64')\n",
        "    preds = np.log(preds) / temperature\n",
        "    exp_preds = np.exp(preds)\n",
        "    preds = exp_preds / np.sum(exp_preds)\n",
        "    probas = np.random.multinomial(1, preds, 1)\n",
        "    out = np.random.choice(range(len(chars)), p = probas.ravel())\n",
        "    return out\n",
        "    #return np.argmax(probas)\n",
        "    \n",
        "def on_epoch_end(epoch, logs):\n",
        "    # Function invoked at end of each epoch. Prints generated text.\n",
        "    None\n",
        "    #start_index = random.randint(0, len(text) - Tx - 1)\n",
        "    \n",
        "    #generated = ''\n",
        "    #sentence = text[start_index: start_index + Tx]\n",
        "    #sentence = '0'*Tx\n",
        "    #usr_input = input(\"Write the beginning of your poem, the Shakespearian machine will complete it.\")\n",
        "    # zero pad the sentence to Tx characters.\n",
        "    #sentence = ('{0:0>' + str(Tx) + '}').format(usr_input).lower()\n",
        "    #generated += sentence\n",
        "#\n",
        "    #sys.stdout.write(usr_input)\n",
        "\n",
        "    #for i in range(400):\n",
        "\"\"\"\n",
        "        #x_pred = np.zeros((1, Tx, len(chars)))\n",
        "\n",
        "        for t, char in enumerate(sentence):\n",
        "            if char != '0':\n",
        "                x_pred[0, t, char_indices[char]] = 1.\n",
        "\n",
        "        preds = model.predict(x_pred, verbose=0)[0]\n",
        "        next_index = sample(preds, temperature = 1.0)\n",
        "        next_char = indices_char[next_index]\n",
        "\n",
        "        generated += next_char\n",
        "        sentence = sentence[1:] + next_char\n",
        "\n",
        "        sys.stdout.write(next_char)\n",
        "        sys.stdout.flush()\n",
        "        \n",
        "        if next_char == '\\n':\n",
        "            continue\n",
        "        \n",
        "    # Stop at the end of a line (4 lines)\n",
        "    print()\n",
        " \"\"\"   \n",
        "print(\"Loading text data...\")\n",
        "text = io.open('shakespeare.txt', encoding='utf-8').read().lower()\n",
        "#print('corpus length:', len(text))\n",
        "\n",
        "Tx = 40\n",
        "chars = sorted(list(set(text)))\n",
        "char_indices = dict((c, i) for i, c in enumerate(chars))\n",
        "indices_char = dict((i, c) for i, c in enumerate(chars))\n",
        "#print('number of unique characters in the corpus:', len(chars))\n",
        "\n",
        "print(\"Creating training set...\")\n",
        "X, Y = build_data(text, Tx, stride = 3)\n",
        "print(\"Vectorizing training set...\")\n",
        "x, y = vectorization(X, Y, n_x = len(chars), char_indices = char_indices) \n",
        "print(\"Loading model...\")\n",
        "model = load_model('model_shakespeare_kiank_350_epoch.h5')\n",
        "\n",
        "\n",
        "def generate_output():\n",
        "    generated = ''\n",
        "    #sentence = text[start_index: start_index + Tx]\n",
        "    #sentence = '0'*Tx\n",
        "    usr_input = input(\"Write the beginning of your poem, the Shakespeare machine will complete it. Your input is: \")\n",
        "    # zero pad the sentence to Tx characters.\n",
        "    sentence = ('{0:0>' + str(Tx) + '}').format(usr_input).lower()\n",
        "    generated += usr_input \n",
        "\n",
        "    sys.stdout.write(\"\\n\\nHere is your poem: \\n\\n\") \n",
        "    sys.stdout.write(usr_input)\n",
        "    for i in range(400):\n",
        "\n",
        "        x_pred = np.zeros((1, Tx, len(chars)))\n",
        "\n",
        "        for t, char in enumerate(sentence):\n",
        "            if char != '0':\n",
        "                x_pred[0, t, char_indices[char]] = 1.\n",
        "\n",
        "        preds = model.predict(x_pred, verbose=0)[0]\n",
        "        next_index = sample(preds, temperature = 1.0)\n",
        "        next_char = indices_char[next_index]\n",
        "\n",
        "        generated += next_char\n",
        "        sentence = sentence[1:] + next_char\n",
        "\n",
        "        sys.stdout.write(next_char)\n",
        "        sys.stdout.flush()\n",
        "\n",
        "        if next_char == '\\n':\n",
        "            continue"
      ],
      "execution_count": 78,
      "outputs": [
        {
          "output_type": "stream",
          "text": [
            "Loading text data...\n",
            "Creating training set...\n",
            "number of training examples: 31412\n",
            "Vectorizing training set...\n",
            "Loading model...\n"
          ],
          "name": "stdout"
        },
        {
          "output_type": "stream",
          "text": [
            "/usr/local/lib/python3.6/dist-packages/keras/engine/saving.py:327: UserWarning: Error in loading the saved optimizer state. As a result, your model is starting with a freshly initialized optimizer.\n",
            "  warnings.warn('Error in loading the saved optimizer '\n"
          ],
          "name": "stderr"
        }
      ]
    },
    {
      "cell_type": "markdown",
      "metadata": {
        "id": "MYkb9ZuiJL9P",
        "colab_type": "text"
      },
      "source": [
        "To save you some time, we have already trained a model for ~1000 epochs on a collection of Shakespearian poems called [*\"The Sonnets\"*](shakespeare.txt). "
      ]
    },
    {
      "cell_type": "markdown",
      "metadata": {
        "id": "nkAqgp6tJL9X",
        "colab_type": "text"
      },
      "source": [
        "Let's train the model for one more epoch. When it finishes training for an epoch---this will also take a few minutes---you can run `generate_output`, which will prompt asking you for an input (`<`40 characters). The poem will start with your sentence, and our RNN-Shakespeare will complete the rest of the poem for you! For example, try \"Forsooth this maketh no sense \" (don't enter the quotation marks). Depending on whether you include the space at the end, your results might also differ--try it both ways, and try other inputs as well. \n"
      ]
    },
    {
      "cell_type": "code",
      "metadata": {
        "scrolled": true,
        "id": "zdIgNbNMJL9Y",
        "colab_type": "code",
        "colab": {
          "base_uri": "https://localhost:8080/",
          "height": 71
        },
        "outputId": "a7945c4d-0565-4737-8772-ba99b78ffbb4"
      },
      "source": [
        "print_callback = LambdaCallback(on_epoch_end=on_epoch_end)\n",
        "\n",
        "model.fit(x, y, batch_size=128, epochs=1, callbacks=[print_callback])"
      ],
      "execution_count": 79,
      "outputs": [
        {
          "output_type": "stream",
          "text": [
            "Epoch 1/1\n",
            "31412/31412 [==============================] - 77s 2ms/step - loss: 2.7121\n"
          ],
          "name": "stdout"
        },
        {
          "output_type": "execute_result",
          "data": {
            "text/plain": [
              "<keras.callbacks.History at 0x7fb5b29cd940>"
            ]
          },
          "metadata": {
            "tags": []
          },
          "execution_count": 79
        }
      ]
    },
    {
      "cell_type": "code",
      "metadata": {
        "id": "NqvLqdRUJL9q",
        "colab_type": "code",
        "colab": {}
      },
      "source": [
        "# Run this cell to try with different inputs without having to re-train the model \n",
        "generate_output()"
      ],
      "execution_count": 0,
      "outputs": []
    },
    {
      "cell_type": "markdown",
      "metadata": {
        "id": "KjDRVR_-JL9w",
        "colab_type": "text"
      },
      "source": [
        "The RNN-Shakespeare model is very similar to the one you have built for dinosaur names. The only major differences are:\n",
        "- LSTMs instead of the basic RNN to capture longer-range dependencies\n",
        "- The model is a deeper, stacked LSTM model (2 layer)\n",
        "- Using Keras instead of python to simplify the code \n",
        "\n",
        "If you want to learn more, you can also check out the Keras Team's text generation implementation on GitHub: https://github.com/keras-team/keras/blob/master/examples/lstm_text_generation.py.\n",
        "\n",
        "Congratulations on finishing this notebook! "
      ]
    },
    {
      "cell_type": "markdown",
      "metadata": {
        "id": "wR6s9-PUJL9w",
        "colab_type": "text"
      },
      "source": [
        "**References**:\n",
        "- This exercise took inspiration from Andrej Karpathy's implementation: https://gist.github.com/karpathy/d4dee566867f8291f086. To learn more about text generation, also check out Karpathy's [blog post](http://karpathy.github.io/2015/05/21/rnn-effectiveness/).\n",
        "- For the Shakespearian poem generator, our implementation was based on the implementation of an LSTM text generator by the Keras team: https://github.com/keras-team/keras/blob/master/examples/lstm_text_generation.py "
      ]
    }
  ]
}